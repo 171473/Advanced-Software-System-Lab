{
  "nbformat": 4,
  "nbformat_minor": 0,
  "metadata": {
    "colab": {
      "name": "BHAVYE_SHARMA_171473_Python_Lab_1.ipynb",
      "provenance": [],
      "collapsed_sections": [],
      "include_colab_link": true
    },
    "kernelspec": {
      "name": "python3",
      "display_name": "Python 3"
    }
  },
  "cells": [
    {
      "cell_type": "markdown",
      "metadata": {
        "id": "view-in-github",
        "colab_type": "text"
      },
      "source": [
        "<a href=\"https://colab.research.google.com/github/171473/Advanced-Software-System-Lab/blob/master/BHAVYE_SHARMA_171473_Python_Lab_1.ipynb\" target=\"_parent\"><img src=\"https://colab.research.google.com/assets/colab-badge.svg\" alt=\"Open In Colab\"/></a>"
      ]
    },
    {
      "cell_type": "code",
      "metadata": {
        "id": "id7w-RPBVLU-",
        "colab_type": "code",
        "colab": {
          "base_uri": "https://localhost:8080/",
          "height": 34
        },
        "outputId": "f20e4fa0-7ff9-4cd1-c528-b02e3611c192"
      },
      "source": [
        "print(\"First Python Program\")"
      ],
      "execution_count": null,
      "outputs": [
        {
          "output_type": "stream",
          "text": [
            "First Python Program\n"
          ],
          "name": "stdout"
        }
      ]
    },
    {
      "cell_type": "markdown",
      "metadata": {
        "id": "TS9jQUSuV3HG",
        "colab_type": "text"
      },
      "source": [
        "Exercise 1: WAP to add three numbers and print result. Also use Comments in the code. \n",
        "\n",
        "Exercise 2: WAP to display your name & roll number in python. "
      ]
    },
    {
      "cell_type": "markdown",
      "metadata": {
        "id": "vDyte6-oQTJ0",
        "colab_type": "text"
      },
      "source": [
        "ANS1.\n"
      ]
    },
    {
      "cell_type": "code",
      "metadata": {
        "id": "jb7nW8kF7lQC",
        "colab_type": "code",
        "colab": {
          "base_uri": "https://localhost:8080/",
          "height": 50
        },
        "outputId": "8794b08e-3fba-437f-c9f0-661c7b98f650"
      },
      "source": [
        "def sum_thrice(x, y, z):\n",
        "\n",
        "     sum = x + y + z\n",
        "  \n",
        "     if x == y == z:\n",
        "      sum = sum * 3\n",
        "     return sum\n",
        "\n",
        "print(sum_thrice(1, 3, 3))\n",
        "print(sum_thrice(3, 2, 1))"
      ],
      "execution_count": null,
      "outputs": [
        {
          "output_type": "stream",
          "text": [
            "7\n",
            "6\n"
          ],
          "name": "stdout"
        }
      ]
    },
    {
      "cell_type": "markdown",
      "metadata": {
        "id": "jtUjiBmuQZkE",
        "colab_type": "text"
      },
      "source": [
        "ANS2."
      ]
    },
    {
      "cell_type": "code",
      "metadata": {
        "id": "vRiXNvms8yL4",
        "colab_type": "code",
        "colab": {
          "base_uri": "https://localhost:8080/",
          "height": 50
        },
        "outputId": "07f5f2ab-67ee-4319-b6b0-45cc582d7c8f"
      },
      "source": [
        "def details():\n",
        "    name, roll = \"Bhavye Sharma\", 171473\n",
        "   \n",
        "    print(\"Name: {}\\nRollno:  {}\".format(name, roll ))\n",
        "\n",
        "details()"
      ],
      "execution_count": null,
      "outputs": [
        {
          "output_type": "stream",
          "text": [
            "Name: Bhavye Sharma\n",
            "Rollno:  171473\n"
          ],
          "name": "stdout"
        }
      ]
    },
    {
      "cell_type": "markdown",
      "metadata": {
        "id": "Qc95Nv_PWjCM",
        "colab_type": "text"
      },
      "source": [
        "Exercise 3: WAP to add three numbers, inputs from user and print result Try: In above program, give number in place of string and try to get the difference between input() and raw_input() function.\n",
        "\n",
        "Exercise 4: WAP to concatenate your first & last name. Take inputs from keyboard and then print"
      ]
    },
    {
      "cell_type": "markdown",
      "metadata": {
        "id": "HNX0OQvCPnSg",
        "colab_type": "text"
      },
      "source": [
        "ANS 3."
      ]
    },
    {
      "cell_type": "code",
      "metadata": {
        "id": "1iN4LAFi_JR-",
        "colab_type": "code",
        "colab": {
          "base_uri": "https://localhost:8080/",
          "height": 67
        },
        "outputId": "bd9f00a6-f919-4554-f513-dbe0589d03a7"
      },
      "source": [
        "a = input(\"Enter First String: \")\n",
        "b = input(\"Enter Second String: \")\n",
        "c = a + b\t\t# concatinate two strings\n",
        "print  (a, \" + \", b, \" --> \", c)\n"
      ],
      "execution_count": null,
      "outputs": [
        {
          "output_type": "stream",
          "text": [
            "Enter First String: 3\n",
            "Enter Second String: 4\n",
            "3  +  4  -->  34\n"
          ],
          "name": "stdout"
        }
      ]
    },
    {
      "cell_type": "markdown",
      "metadata": {
        "id": "20dRCPxPPrdA",
        "colab_type": "text"
      },
      "source": [
        "ANS3."
      ]
    },
    {
      "cell_type": "code",
      "metadata": {
        "id": "wKPpnwzW-WTy",
        "colab_type": "code",
        "colab": {
          "base_uri": "https://localhost:8080/",
          "height": 84
        },
        "outputId": "911f93c8-7954-4408-d0bf-8044446046b2"
      },
      "source": [
        "a = int(input(\"Enter First No: \"))\n",
        "b = int(input(\"Enter Second No: \"))\n",
        "c=int(input(\"Enter Third No: \"))\n",
        "d = a + b +c\n",
        "print (a, \" + \", b,  \" + \", c,\" --> \", d)\n"
      ],
      "execution_count": null,
      "outputs": [
        {
          "output_type": "stream",
          "text": [
            "Enter First No: 3\n",
            "Enter Second No: 4\n",
            "Enter Third No: 5\n",
            "3  +  4  +  5  -->  12\n"
          ],
          "name": "stdout"
        }
      ]
    },
    {
      "cell_type": "markdown",
      "metadata": {
        "id": "wXK5BQ2AQJjs",
        "colab_type": "text"
      },
      "source": [
        "ANS4."
      ]
    },
    {
      "cell_type": "code",
      "metadata": {
        "id": "JeEy8txdP3mF",
        "colab_type": "code",
        "colab": {
          "base_uri": "https://localhost:8080/",
          "height": 67
        },
        "outputId": "0570a5e0-0a01-468c-e380-5d696c2b243c"
      },
      "source": [
        "a = input(\"Enter First Name: \")\n",
        "b = input(\"Enter Last Name: \")\n",
        "c = a + b\t\t# concatinate two strings\n",
        "print  (a, \" + \", b, \" --> \", c)"
      ],
      "execution_count": 1,
      "outputs": [
        {
          "output_type": "stream",
          "text": [
            "Enter First Name: Bhavye \n",
            "Enter Last Name: Sharma\n",
            "Bhavye   +  Sharma  -->  Bhavye Sharma\n"
          ],
          "name": "stdout"
        }
      ]
    },
    {
      "cell_type": "markdown",
      "metadata": {
        "id": "AfSxebRjXDiN",
        "colab_type": "text"
      },
      "source": [
        "Exercise 5: WAP to declare three variables x,y and z and assign the values 33, 17.5 and \"Python\" in one single line & print data type of each variable. "
      ]
    },
    {
      "cell_type": "markdown",
      "metadata": {
        "id": "KHMUdqF9QMJk",
        "colab_type": "text"
      },
      "source": [
        "ANS5."
      ]
    },
    {
      "cell_type": "code",
      "metadata": {
        "id": "gcgMAoO_EqqE",
        "colab_type": "code",
        "colab": {
          "base_uri": "https://localhost:8080/",
          "height": 34
        },
        "outputId": "28f5c028-28ff-4a14-9c6e-ad27c324e845"
      },
      "source": [
        "x=33\n",
        "y=17.5\n",
        "z=\"Python\"\n",
        "print(type(x),type(y),type(z))\n"
      ],
      "execution_count": null,
      "outputs": [
        {
          "output_type": "stream",
          "text": [
            "<class 'int'> <class 'float'> <class 'str'>\n"
          ],
          "name": "stdout"
        }
      ]
    },
    {
      "cell_type": "markdown",
      "metadata": {
        "id": "KjzZRUBVBHyR",
        "colab_type": "text"
      },
      "source": [
        "Exercise 6: WAP to convert an integer variable x=17 into complex number"
      ]
    },
    {
      "cell_type": "markdown",
      "metadata": {
        "id": "Z781LH-CQN91",
        "colab_type": "text"
      },
      "source": [
        "ANS6."
      ]
    },
    {
      "cell_type": "code",
      "metadata": {
        "id": "YSgrDmwWCom5",
        "colab_type": "code",
        "colab": {
          "base_uri": "https://localhost:8080/",
          "height": 34
        },
        "outputId": "78d520de-dd4c-4c41-9357-476497aa8734"
      },
      "source": [
        "x=17\n",
        "y=complex(x)\n",
        "print(y)\n"
      ],
      "execution_count": null,
      "outputs": [
        {
          "output_type": "stream",
          "text": [
            "(17+0j)\n"
          ],
          "name": "stdout"
        }
      ]
    }
  ]
}