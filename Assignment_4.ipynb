{
  "nbformat": 4,
  "nbformat_minor": 0,
  "metadata": {
    "colab": {
      "name": "Assignment 4.ipynb",
      "provenance": [],
      "authorship_tag": "ABX9TyM5b9/V28yPU/EyPspcT/xZ",
      "include_colab_link": true
    },
    "kernelspec": {
      "name": "python3",
      "display_name": "Python 3"
    }
  },
  "cells": [
    {
      "cell_type": "markdown",
      "metadata": {
        "id": "view-in-github",
        "colab_type": "text"
      },
      "source": [
        "<a href=\"https://colab.research.google.com/github/171473/Advanced-Software-System-Lab/blob/master/Assignment_4.ipynb\" target=\"_parent\"><img src=\"https://colab.research.google.com/assets/colab-badge.svg\" alt=\"Open In Colab\"/></a>"
      ]
    },
    {
      "cell_type": "markdown",
      "metadata": {
        "id": "kYFw0uAqpy4i",
        "colab_type": "text"
      },
      "source": [
        "Ans1"
      ]
    },
    {
      "cell_type": "code",
      "metadata": {
        "id": "QLVVw7ymivUl",
        "colab_type": "code",
        "colab": {
          "base_uri": "https://localhost:8080/",
          "height": 34
        },
        "outputId": "caddd2a0-8ca3-453a-e1f3-41b5eb9435be"
      },
      "source": [
        "d1 = {'a': 23, 'b': 34}\n",
        "d2 = {'x': 354, 'y': 2034}\n",
        "d = d1.copy()\n",
        "d.update(d2)\n",
        "print(d)"
      ],
      "execution_count": 1,
      "outputs": [
        {
          "output_type": "stream",
          "text": [
            "{'a': 23, 'b': 34, 'x': 354, 'y': 2034}\n"
          ],
          "name": "stdout"
        }
      ]
    },
    {
      "cell_type": "markdown",
      "metadata": {
        "id": "INQwP17FjEnA",
        "colab_type": "text"
      },
      "source": [
        "Ans2"
      ]
    },
    {
      "cell_type": "code",
      "metadata": {
        "id": "rTlEpkwQjGde",
        "colab_type": "code",
        "colab": {
          "base_uri": "https://localhost:8080/",
          "height": 51
        },
        "outputId": "05f64583-f844-4f4d-b1ca-52826fc0cb37"
      },
      "source": [
        "a = {1:2 ,2:1 ,4:3 ,3:4 ,6:5 ,5:6 }\n",
        "print(sorted(a.keys()))\n",
        "print(sorted(a.items()))\n"
      ],
      "execution_count": 2,
      "outputs": [
        {
          "output_type": "stream",
          "text": [
            "[1, 2, 3, 4, 5, 6]\n",
            "[(1, 2), (2, 1), (3, 4), (4, 3), (5, 6), (6, 5)]\n"
          ],
          "name": "stdout"
        }
      ]
    },
    {
      "cell_type": "code",
      "metadata": {
        "id": "9zzp4I8BkINn",
        "colab_type": "code",
        "colab": {
          "base_uri": "https://localhost:8080/",
          "height": 34
        },
        "outputId": "c3dda4c4-9a77-42bb-a247-72f65f2ad40f"
      },
      "source": [
        "a = {1:2 ,2:1 ,4:3 ,3:4 ,6:5 ,5:6 }\n",
        "print(sorted(a.values()))\n",
        "\n"
      ],
      "execution_count": 7,
      "outputs": [
        {
          "output_type": "stream",
          "text": [
            "[1, 2, 3, 4, 5, 6]\n"
          ],
          "name": "stdout"
        }
      ]
    },
    {
      "cell_type": "markdown",
      "metadata": {
        "id": "ynQnPH6Ck3pX",
        "colab_type": "text"
      },
      "source": [
        "Ans 3"
      ]
    },
    {
      "cell_type": "code",
      "metadata": {
        "id": "RT3-4apgk4zm",
        "colab_type": "code",
        "colab": {
          "base_uri": "https://localhost:8080/",
          "height": 51
        },
        "outputId": "c51841af-d61a-4753-81a5-344427aa0657"
      },
      "source": [
        "Dict = {'a':1,'b':2,'c':3,'d':4}\n",
        "print(Dict)\n",
        "if 'a' in Dict: \n",
        "    del Dict['a']\n",
        "print(Dict)\n"
      ],
      "execution_count": 9,
      "outputs": [
        {
          "output_type": "stream",
          "text": [
            "{'a': 1, 'b': 2, 'c': 3, 'd': 4}\n",
            "{'b': 2, 'c': 3, 'd': 4}\n"
          ],
          "name": "stdout"
        }
      ]
    },
    {
      "cell_type": "markdown",
      "metadata": {
        "id": "JUYtBd1NlHMO",
        "colab_type": "text"
      },
      "source": [
        "ANS 4\n"
      ]
    },
    {
      "cell_type": "code",
      "metadata": {
        "id": "4gBkPM1vlJQ-",
        "colab_type": "code",
        "colab": {
          "base_uri": "https://localhost:8080/",
          "height": 34
        },
        "outputId": "4e04a305-77bb-4fe5-bfc5-1517f26c6075"
      },
      "source": [
        "def convert(tupl, di): \n",
        "    for a, b in tupl: \n",
        "        di.setdefault(a, []).append(b) \n",
        "    return di \n",
        "      \n",
        "tups = [(\"bhavye\", 10),  (\"anand\", 14),  \n",
        "      (\"ashish\", 30)] \n",
        "dictionary = {} \n",
        "print (convert(tups, dictionary)) "
      ],
      "execution_count": 11,
      "outputs": [
        {
          "output_type": "stream",
          "text": [
            "{'bhavye': [10], 'anand': [14], 'ashish': [30]}\n"
          ],
          "name": "stdout"
        }
      ]
    },
    {
      "cell_type": "markdown",
      "metadata": {
        "id": "6nJHUgwDlp1n",
        "colab_type": "text"
      },
      "source": [
        "Ans 5"
      ]
    },
    {
      "cell_type": "code",
      "metadata": {
        "id": "4yP5Kpl5lsDX",
        "colab_type": "code",
        "colab": {
          "base_uri": "https://localhost:8080/",
          "height": 119
        },
        "outputId": "3f6f342c-3b05-4704-a159-8fb2fffa7e47"
      },
      "source": [
        "n = int(input(\"enter a n value:\"))\n",
        "d = {}\n",
        "\n",
        "for i in range(n):\n",
        "  print(\"Enter your Roll number\")\n",
        "\n",
        "  keys = int(input()) \n",
        "  print(\"Enter your Name\")\n",
        "  values = input() \n",
        "  d[keys] = values\n",
        "  print(d)\n"
      ],
      "execution_count": 18,
      "outputs": [
        {
          "output_type": "stream",
          "text": [
            "enter a n value:1\n",
            "Enter your Roll number\n",
            "171473\n",
            "Enter your Name\n",
            "Bhavye \n",
            "{171473: 'Bhavye '}\n"
          ],
          "name": "stdout"
        }
      ]
    },
    {
      "cell_type": "markdown",
      "metadata": {
        "id": "Gd3yHoYeniSn",
        "colab_type": "text"
      },
      "source": [
        "ANS 6."
      ]
    },
    {
      "cell_type": "code",
      "metadata": {
        "id": "HPfIzdkRnj82",
        "colab_type": "code",
        "colab": {
          "base_uri": "https://localhost:8080/",
          "height": 136
        },
        "outputId": "27a5ea46-37b6-4b28-ad46-8a3af40913ed"
      },
      "source": [
        "n = int(input(\"enter a n value:\"))\n",
        "d = {}\n",
        "\n",
        "for i in range(n):\n",
        "  print(\"Enter your Roll number\")\n",
        "\n",
        "  keys = int(input()) \n",
        "  print(\"Enter your Name\")\n",
        "  values = input() \n",
        "  d[keys] = values\n",
        "\n",
        "x=int(input(\"Enter the roll number to find its corresponding value\"))\n",
        "key_list = list(d.keys()) \n",
        "val_list = list(d.values()) \n",
        "  \n",
        "print(val_list[key_list.index(x)]) \n"
      ],
      "execution_count": 20,
      "outputs": [
        {
          "output_type": "stream",
          "text": [
            "enter a n value:1\n",
            "Enter your Roll number\n",
            "171473\n",
            "Enter your Name\n",
            "Bhavye\n",
            "Enter the roll number to find its corresponding value171473\n",
            "Bhavye\n"
          ],
          "name": "stdout"
        }
      ]
    }
  ]
}