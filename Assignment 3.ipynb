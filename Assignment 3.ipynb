{
  "nbformat": 4,
  "nbformat_minor": 0,
  "metadata": {
    "colab": {
      "name": "Untitled1.ipynb",
      "provenance": [],
      "authorship_tag": "ABX9TyMaHXulg2atm1Rx4PSgfvMQ",
      "include_colab_link": true
    },
    "kernelspec": {
      "name": "python3",
      "display_name": "Python 3"
    }
  },
  "cells": [
    {
      "cell_type": "markdown",
      "metadata": {
        "id": "view-in-github",
        "colab_type": "text"
      },
      "source": [
        "<a href=\"https://colab.research.google.com/github/171473/Advanced-Software-System-Lab/blob/master/Assignment%203.ipynb\" target=\"_parent\"><img src=\"https://colab.research.google.com/assets/colab-badge.svg\" alt=\"Open In Colab\"/></a>"
      ]
    },
    {
      "cell_type": "markdown",
      "metadata": {
        "id": "Gi97Xtim_LNm",
        "colab_type": "text"
      },
      "source": [
        "Answer 1\n"
      ]
    },
    {
      "cell_type": "code",
      "metadata": {
        "id": "oP0rq1ETz3W6",
        "colab_type": "code",
        "colab": {
          "base_uri": "https://localhost:8080/",
          "height": 34
        },
        "outputId": "4e1214d6-c42d-4aec-e336-d195db1e2fa3"
      },
      "source": [
        "\n",
        "def compound_interest(principle, rate, time): \n",
        "\n",
        "\n",
        "\tAmount = principle * (pow((1 + rate / 100), time)) \n",
        "\tCI = Amount - principle \n",
        "\tprint(\"Compound interest is\", CI) \n",
        "\n",
        "compound_interest(10000, 10.25, 5) \n",
        "\n",
        "\n"
      ],
      "execution_count": null,
      "outputs": [
        {
          "output_type": "stream",
          "text": [
            "Compound interest is 6288.946267774416\n"
          ],
          "name": "stdout"
        }
      ]
    },
    {
      "cell_type": "markdown",
      "metadata": {
        "id": "8NckYAVV_R-h",
        "colab_type": "text"
      },
      "source": [
        "Answer 2"
      ]
    },
    {
      "cell_type": "markdown",
      "metadata": {
        "id": "XDEHQJOJ_R6Y",
        "colab_type": "text"
      },
      "source": [
        ""
      ]
    },
    {
      "cell_type": "code",
      "metadata": {
        "id": "Z9MOSWoX1jiL",
        "colab_type": "code",
        "colab": {
          "base_uri": "https://localhost:8080/",
          "height": 67
        },
        "outputId": "d5c4a967-c83d-4da6-9c68-027d7adcf508"
      },
      "source": [
        "first_name = input(\"Enter your first name : \") \n",
        "last_name  = input(\" Enter your last name : \") \n",
        "print ( \" LAST and FIRST name : \" +  last_name  +  \" \"  + first_name )\n"
      ],
      "execution_count": null,
      "outputs": [
        {
          "output_type": "stream",
          "text": [
            "Enter your first name : Bhavye \n",
            " Enter your last name : Sharma\n",
            " LAST and FIRST name : Sharma Bhavye \n"
          ],
          "name": "stdout"
        }
      ]
    },
    {
      "cell_type": "markdown",
      "metadata": {
        "id": "5RfxV5GA_Uhb",
        "colab_type": "text"
      },
      "source": [
        "Answer 3"
      ]
    },
    {
      "cell_type": "code",
      "metadata": {
        "id": "QCQQ6iND2U-J",
        "colab_type": "code",
        "colab": {
          "base_uri": "https://localhost:8080/",
          "height": 134
        },
        "outputId": "b96c4ae1-1666-4a0b-adea-6a1ba9ab4088"
      },
      "source": [
        "name = input(\"Enter your name: \") \n",
        "counter = 0 \n",
        "for s in name: \n",
        "   counter = counter+1 \n",
        "   print(\"Length of the input string is:\", counter)"
      ],
      "execution_count": null,
      "outputs": [
        {
          "output_type": "stream",
          "text": [
            "Enter your name: Bhavye\n",
            "Length of the input string is: 1\n",
            "Length of the input string is: 2\n",
            "Length of the input string is: 3\n",
            "Length of the input string is: 4\n",
            "Length of the input string is: 5\n",
            "Length of the input string is: 6\n"
          ],
          "name": "stdout"
        }
      ]
    },
    {
      "cell_type": "markdown",
      "metadata": {
        "id": "rv_xQYN__YxJ",
        "colab_type": "text"
      },
      "source": [
        "Answer 4"
      ]
    },
    {
      "cell_type": "code",
      "metadata": {
        "id": "KIGyuOCl2qSB",
        "colab_type": "code",
        "colab": {
          "base_uri": "https://localhost:8080/",
          "height": 34
        },
        "outputId": "636fb437-555a-468b-9670-af24b90cdfad"
      },
      "source": [
        "team_list = ['csk', 'mi', 'rcb', 'kxp', 'srh', 'rr', 'dd', 'kkr'] \n",
        "team_list.remove('mi') \n",
        "team_list.remove ('kxp') \n",
        "team_list.remove('rcb') \n",
        "team_list.remove ('dd') \n",
        "print (\"List : \", team_list)\n"
      ],
      "execution_count": null,
      "outputs": [
        {
          "output_type": "stream",
          "text": [
            "List :  ['csk', 'srh', 'rr', 'kkr']\n"
          ],
          "name": "stdout"
        }
      ]
    },
    {
      "cell_type": "markdown",
      "metadata": {
        "id": "f7Dn_2Ov_aYU",
        "colab_type": "text"
      },
      "source": [
        "Answer 5"
      ]
    },
    {
      "cell_type": "code",
      "metadata": {
        "id": "ImLPeIxr3Hmy",
        "colab_type": "code",
        "colab": {
          "base_uri": "https://localhost:8080/",
          "height": 50
        },
        "outputId": "fd8ae1bf-1820-4ce8-b0b2-31eb3b96e50d"
      },
      "source": [
        "num = int(input(\"Enter a number: \")) \n",
        "if (num % 2) == 0:\n",
        " print(\"{0} is Even\" .format(num))\n",
        "else:\n",
        " print(\"{0} is Odd\". format(num))\n"
      ],
      "execution_count": null,
      "outputs": [
        {
          "output_type": "stream",
          "text": [
            "Enter a number: 110\n",
            "110 is Even\n"
          ],
          "name": "stdout"
        }
      ]
    },
    {
      "cell_type": "markdown",
      "metadata": {
        "id": "G6g2jzS6_cyg",
        "colab_type": "text"
      },
      "source": [
        "Answer 6"
      ]
    },
    {
      "cell_type": "code",
      "metadata": {
        "id": "EgELo-0t3bzJ",
        "colab_type": "code",
        "colab": {
          "base_uri": "https://localhost:8080/",
          "height": 50
        },
        "outputId": "0fc618cc-13e8-4a5b-d89f-b72279507619"
      },
      "source": [
        "list1 = [34, 87, 892, 920, 974, 893] \n",
        "print (\"Max value element : \", max(list1) ) \n",
        "print (\"Min value element : \", min(list1) ) "
      ],
      "execution_count": null,
      "outputs": [
        {
          "output_type": "stream",
          "text": [
            "Max value element :  974\n",
            "Min value element :  34\n"
          ],
          "name": "stdout"
        }
      ]
    },
    {
      "cell_type": "markdown",
      "metadata": {
        "id": "B8Gysa7I_eNN",
        "colab_type": "text"
      },
      "source": [
        "ANswer 7"
      ]
    },
    {
      "cell_type": "code",
      "metadata": {
        "id": "FSxHl0M23m9x",
        "colab_type": "code",
        "colab": {
          "base_uri": "https://localhost:8080/",
          "height": 50
        },
        "outputId": "8ad5fe44-fb28-4763-80ad-25e525fed298"
      },
      "source": [
        "list1 = [9,56,826,784] \n",
        "print ( list1 )\n",
        "my_new_list = [i * 5 for i in list1]  \n",
        "print ( my_new_list ) "
      ],
      "execution_count": null,
      "outputs": [
        {
          "output_type": "stream",
          "text": [
            "[9, 56, 826, 784]\n",
            "[45, 280, 4130, 3920]\n"
          ],
          "name": "stdout"
        }
      ]
    },
    {
      "cell_type": "markdown",
      "metadata": {
        "id": "NpxWYhVE_f7I",
        "colab_type": "text"
      },
      "source": [
        "Answer 8"
      ]
    },
    {
      "cell_type": "code",
      "metadata": {
        "id": "cGS4lmXs7JGz",
        "colab_type": "code",
        "colab": {
          "base_uri": "https://localhost:8080/",
          "height": 202
        },
        "outputId": "a505ceca-2178-4440-9b45-5b6f249ad117"
      },
      "source": [
        "n=int(input(\"Enter the number to print the tables for:\"))\n",
        "for i in range(1,11):\n",
        "    print(n,\"x\",i,\"=\",n*i)"
      ],
      "execution_count": null,
      "outputs": [
        {
          "output_type": "stream",
          "text": [
            "Enter the number to print the tables for:4\n",
            "4 x 1 = 4\n",
            "4 x 2 = 8\n",
            "4 x 3 = 12\n",
            "4 x 4 = 16\n",
            "4 x 5 = 20\n",
            "4 x 6 = 24\n",
            "4 x 7 = 28\n",
            "4 x 8 = 32\n",
            "4 x 9 = 36\n",
            "4 x 10 = 40\n"
          ],
          "name": "stdout"
        }
      ]
    },
    {
      "cell_type": "markdown",
      "metadata": {
        "id": "w1reknsd_h7Q",
        "colab_type": "text"
      },
      "source": [
        "ANswer 9"
      ]
    },
    {
      "cell_type": "code",
      "metadata": {
        "id": "0xChOZ138J4V",
        "colab_type": "code",
        "colab": {
          "base_uri": "https://localhost:8080/",
          "height": 34
        },
        "outputId": "019f072a-6ebf-48a9-89fd-c6b97a0581b8"
      },
      "source": [
        "def Reverse(lst): \n",
        "\treturn [ee for ee in reversed(lst)] \n",
        "\t\n",
        "\n",
        "lst = [10, 11, 12, 13, 14, 15] \n",
        "print(Reverse(lst)) \n"
      ],
      "execution_count": null,
      "outputs": [
        {
          "output_type": "stream",
          "text": [
            "[15, 14, 13, 12, 11, 10]\n"
          ],
          "name": "stdout"
        }
      ]
    },
    {
      "cell_type": "markdown",
      "metadata": {
        "id": "XbWkSUaC_jie",
        "colab_type": "text"
      },
      "source": [
        "Answer 10"
      ]
    },
    {
      "cell_type": "code",
      "metadata": {
        "id": "Mjmqx0t-8l4m",
        "colab_type": "code",
        "colab": {
          "base_uri": "https://localhost:8080/",
          "height": 34
        },
        "outputId": "387f3f5c-1f1a-4e11-eb26-0137c3a18c10"
      },
      "source": [
        "list1 = [10, 20, 4, 45, 99] \n",
        "  \n",
        "  \n",
        "\n",
        "print(\"Largest element is:\", max(list1)) "
      ],
      "execution_count": null,
      "outputs": [
        {
          "output_type": "stream",
          "text": [
            "Largest element is: 99\n"
          ],
          "name": "stdout"
        }
      ]
    },
    {
      "cell_type": "markdown",
      "metadata": {
        "id": "Y0tYM_k8_lva",
        "colab_type": "text"
      },
      "source": [
        "Answer 11"
      ]
    },
    {
      "cell_type": "code",
      "metadata": {
        "id": "-pEK1Xkg9I3F",
        "colab_type": "code",
        "colab": {
          "base_uri": "https://localhost:8080/",
          "height": 85
        },
        "outputId": "ae8357ed-2003-44fb-a4b8-475c24c6bd4b"
      },
      "source": [
        "height = float(input(\"Input your height in meters: \"))\n",
        "\n",
        "weight = float(input(\"Input your weight in kilogram: \"))\n",
        "\n",
        " \n",
        "\n",
        "print(\"Your body mass index is: \", round(weight / (height * height), 2) )\n",
        "\n",
        " \n",
        "\n",
        "if  round(weight / (height * height), 2)<18.5:\n",
        "\n",
        "  print(\"Underweight\")\n",
        "\n",
        "elif round(weight / (height * height), 2)<24.5 and round(weight / (height * height), 2)>18.5:\n",
        "\n",
        "  print(\"Normal\")\n",
        "\n",
        "elif round(weight / (height * height), 2)<29.9and round(weight / (height * height), 2)>25:\n",
        "\n",
        "  print(\"Overweight\")\n",
        "\n",
        "elif  round(weight / (height * height), 2)>30 :\n",
        "\n",
        "   print(\"Obese\")\n",
        "\n",
        "\n"
      ],
      "execution_count": null,
      "outputs": [
        {
          "output_type": "stream",
          "text": [
            "Input your height in meters: 1.83\n",
            "Input your weight in kilogram: 71\n",
            "Your body mass index is:  21.2\n",
            "Normal\n"
          ],
          "name": "stdout"
        }
      ]
    }
  ]
}