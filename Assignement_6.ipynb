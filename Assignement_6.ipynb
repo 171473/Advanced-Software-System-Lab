{
  "nbformat": 4,
  "nbformat_minor": 0,
  "metadata": {
    "colab": {
      "name": "Assignement_6.ipynb",
      "provenance": [],
      "collapsed_sections": [],
      "include_colab_link": true
    },
    "kernelspec": {
      "name": "python3",
      "display_name": "Python 3"
    }
  },
  "cells": [
    {
      "cell_type": "markdown",
      "metadata": {
        "id": "view-in-github",
        "colab_type": "text"
      },
      "source": [
        "<a href=\"https://colab.research.google.com/github/171473/Advanced-Software-System-Lab/blob/master/Assignement_6.ipynb\" target=\"_parent\"><img src=\"https://colab.research.google.com/assets/colab-badge.svg\" alt=\"Open In Colab\"/></a>"
      ]
    },
    {
      "cell_type": "markdown",
      "metadata": {
        "id": "izKs-DDfds1U",
        "colab_type": "text"
      },
      "source": [
        "Ans1"
      ]
    },
    {
      "cell_type": "code",
      "metadata": {
        "id": "qZmetUCndogB",
        "colab_type": "code",
        "colab": {
          "base_uri": "https://localhost:8080/",
          "height": 126
        },
        "outputId": "998642cb-1c52-4e2e-9080-9c470f47cdc7"
      },
      "source": [
        "import numpy as np\n",
        "import numpy as np\n",
        "x = np.arange(12, 38)\n",
        "print(\"Original array\")\n",
        "print(x)\n",
        "print(\"Reverse array\")\n",
        "x = x[::-1]\n",
        "print(x)"
      ],
      "execution_count": null,
      "outputs": [
        {
          "output_type": "stream",
          "text": [
            "Original array\n",
            "[12 13 14 15 16 17 18 19 20 21 22 23 24 25 26 27 28 29 30 31 32 33 34 35\n",
            " 36 37]\n",
            "Reverse array\n",
            "[37 36 35 34 33 32 31 30 29 28 27 26 25 24 23 22 21 20 19 18 17 16 15 14\n",
            " 13 12]\n"
          ],
          "name": "stdout"
        }
      ]
    },
    {
      "cell_type": "markdown",
      "metadata": {
        "id": "rgeubuU2drtw",
        "colab_type": "text"
      },
      "source": [
        "ANS2."
      ]
    },
    {
      "cell_type": "code",
      "metadata": {
        "id": "toXC61wri_cJ",
        "colab_type": "code",
        "colab": {
          "base_uri": "https://localhost:8080/",
          "height": 199
        },
        "outputId": "c7eb8b4c-f425-4156-cfae-e45ac275dab4"
      },
      "source": [
        "import numpy as np\n",
        "x = np.ones((3,3))\n",
        "print(\"Original array:\")\n",
        "print(x)\n",
        "print(\"0 on the border and 1 inside in the array\")\n",
        "x = np.pad(x, pad_width=1, mode='constant', constant_values=0)\n",
        "print(x)\n"
      ],
      "execution_count": null,
      "outputs": [
        {
          "output_type": "stream",
          "text": [
            "Original array:\n",
            "[[1. 1. 1.]\n",
            " [1. 1. 1.]\n",
            " [1. 1. 1.]]\n",
            "0 on the border and 1 inside in the array\n",
            "[[0. 0. 0. 0. 0.]\n",
            " [0. 1. 1. 1. 0.]\n",
            " [0. 1. 1. 1. 0.]\n",
            " [0. 1. 1. 1. 0.]\n",
            " [0. 0. 0. 0. 0.]]\n"
          ],
          "name": "stdout"
        }
      ]
    },
    {
      "cell_type": "markdown",
      "metadata": {
        "id": "jsBnbh9zjAy9",
        "colab_type": "text"
      },
      "source": [
        "Ans3"
      ]
    },
    {
      "cell_type": "code",
      "metadata": {
        "id": "kyb-eDtBegbb",
        "colab_type": "code",
        "colab": {
          "base_uri": "https://localhost:8080/",
          "height": 126
        },
        "outputId": "63fe85f8-3d43-4a10-d4cd-648c7b472295"
      },
      "source": [
        "import numpy as np\n",
        "p = [[1, 0], [0, 1]]\n",
        "q = [[1, 2], [3, 4]]\n",
        "print(\"original matrix\")\n",
        "print(p)\n",
        "print(q)\n",
        "result1 = np.dot(p, q)\n",
        "print(\"Result of the said matrix multiplication:\")\n",
        "\n",
        "print(result1)\n"
      ],
      "execution_count": null,
      "outputs": [
        {
          "output_type": "stream",
          "text": [
            "original matrix\n",
            "[[1, 0], [0, 1]]\n",
            "[[1, 2], [3, 4]]\n",
            "Result of the said matrix multiplication:\n",
            "[[1 2]\n",
            " [3 4]]\n"
          ],
          "name": "stdout"
        }
      ]
    },
    {
      "cell_type": "markdown",
      "metadata": {
        "id": "Rn0j8vHhfA8R",
        "colab_type": "text"
      },
      "source": [
        "ANS4"
      ]
    },
    {
      "cell_type": "code",
      "metadata": {
        "id": "gIM_iavxfCJI",
        "colab_type": "code",
        "colab": {
          "base_uri": "https://localhost:8080/",
          "height": 108
        },
        "outputId": "ae33b4e2-afaa-40b5-f247-acae6534bf7e"
      },
      "source": [
        "import numpy as np\n",
        "m = np.arange(6).reshape(2,3)\n",
        "print(\"Original matrix\")\n",
        "print(m)\n",
        "result = np.trace(m)\n",
        "print(\"Sum of diagnol element is \")\n",
        "print(result)"
      ],
      "execution_count": null,
      "outputs": [
        {
          "output_type": "stream",
          "text": [
            "Original matrix\n",
            "[[0 1 2]\n",
            " [3 4 5]]\n",
            "Sum of diagnol element is \n",
            "4\n"
          ],
          "name": "stdout"
        }
      ]
    },
    {
      "cell_type": "markdown",
      "metadata": {
        "id": "GOlThkJVfXLD",
        "colab_type": "text"
      },
      "source": [
        "ANS5"
      ]
    },
    {
      "cell_type": "code",
      "metadata": {
        "id": "DyCiehhqfXgh",
        "colab_type": "code",
        "colab": {
          "base_uri": "https://localhost:8080/",
          "height": 35
        },
        "outputId": "8d19c104-fb16-4400-8162-72868df95342"
      },
      "source": [
        "import numpy as np\n",
        "x = np.random.normal(size=5)\n",
        "print(x)"
      ],
      "execution_count": null,
      "outputs": [
        {
          "output_type": "stream",
          "text": [
            "[-0.86858419  1.53505564 -0.2502704  -1.05846615 -1.07023422]\n"
          ],
          "name": "stdout"
        }
      ]
    },
    {
      "cell_type": "markdown",
      "metadata": {
        "id": "lIYU3mOBfb-s",
        "colab_type": "text"
      },
      "source": [
        "ANS6"
      ]
    },
    {
      "cell_type": "code",
      "metadata": {
        "id": "wBcZWJ1ZfcSm",
        "colab_type": "code",
        "colab": {
          "base_uri": "https://localhost:8080/",
          "height": 162
        },
        "outputId": "863c238f-1f3d-417f-8869-ed1438b9b057"
      },
      "source": [
        "import numpy as np\n",
        "x = np.random.random((5,5))\n",
        "print(\"Original Array:\")\n",
        "print(x) \n",
        "xmin, xmax = x.min(), x.max()\n",
        "print(\"Minimum and Maximum Values:\")\n",
        "print(xmin, xmax)\n"
      ],
      "execution_count": null,
      "outputs": [
        {
          "output_type": "stream",
          "text": [
            "Original Array:\n",
            "[[0.38680548 0.42505106 0.64284613 0.51262293 0.07111451]\n",
            " [0.69826361 0.01091028 0.72082102 0.13604114 0.83349897]\n",
            " [0.17416807 0.06236294 0.57416663 0.47414508 0.71894499]\n",
            " [0.83031553 0.95465868 0.57468405 0.20765753 0.44896018]\n",
            " [0.82945895 0.81660907 0.61917425 0.43519755 0.92826186]]\n",
            "Minimum and Maximum Values:\n",
            "0.010910278868246137 0.9546586791239016\n"
          ],
          "name": "stdout"
        }
      ]
    },
    {
      "cell_type": "markdown",
      "metadata": {
        "id": "W5EScwGnfiio",
        "colab_type": "text"
      },
      "source": [
        "ANS7"
      ]
    },
    {
      "cell_type": "code",
      "metadata": {
        "id": "ek7DtMAkfi1W",
        "colab_type": "code",
        "colab": {
          "base_uri": "https://localhost:8080/",
          "height": 326
        },
        "outputId": "ae6291c6-09b0-4c90-cc0a-2e5c08e8d228"
      },
      "source": [
        "import numpy as np\n",
        "x = np.random.rand(10, 4)\n",
        "print(\"Original array: \")\n",
        "print(x)\n",
        "y= x[:5, :]\n",
        "print(\"First 5 rows of the above array:\")\n",
        "print(y)"
      ],
      "execution_count": null,
      "outputs": [
        {
          "output_type": "stream",
          "text": [
            "Original array: \n",
            "[[0.67747374 0.80103161 0.19202306 0.94439832]\n",
            " [0.75121721 0.32286749 0.63909931 0.17866355]\n",
            " [0.9338282  0.327164   0.79326837 0.29530389]\n",
            " [0.62851017 0.58431834 0.27335844 0.26417797]\n",
            " [0.39861576 0.86334456 0.38250075 0.07331328]\n",
            " [0.20062806 0.27724575 0.39589574 0.04774252]\n",
            " [0.80981054 0.17718297 0.03638104 0.4406314 ]\n",
            " [0.35558277 0.55641882 0.01603325 0.81039991]\n",
            " [0.92608981 0.2626384  0.37329988 0.94557566]\n",
            " [0.86728186 0.15506373 0.08032288 0.36844008]]\n",
            "First 5 rows of the above array:\n",
            "[[0.67747374 0.80103161 0.19202306 0.94439832]\n",
            " [0.75121721 0.32286749 0.63909931 0.17866355]\n",
            " [0.9338282  0.327164   0.79326837 0.29530389]\n",
            " [0.62851017 0.58431834 0.27335844 0.26417797]\n",
            " [0.39861576 0.86334456 0.38250075 0.07331328]]\n"
          ],
          "name": "stdout"
        }
      ]
    },
    {
      "cell_type": "markdown",
      "metadata": {
        "id": "ZDeochj6kHpV",
        "colab_type": "text"
      },
      "source": [
        "ANS8"
      ]
    },
    {
      "cell_type": "code",
      "metadata": {
        "id": "6mSsnpI2kH3g",
        "colab_type": "code",
        "colab": {
          "base_uri": "https://localhost:8080/",
          "height": 380
        },
        "outputId": "029b92fe-0001-4cb5-b1cf-474fe7c5ddee"
      },
      "source": [
        "import numpy as np\n",
        "a= np.random.random((10,2))\n",
        "x,y = np.atleast_2d(a[:,0], a[:,1])\n",
        "d = np.sqrt( (x-x.T)**2 + (y-y.T)**2)\n",
        "print(d)"
      ],
      "execution_count": null,
      "outputs": [
        {
          "output_type": "stream",
          "text": [
            "[[0.         0.7436343  0.90421836 0.14049957 0.36243269 0.69329391\n",
            "  0.8405199  0.70391598 0.71170645 0.93024151]\n",
            " [0.7436343  0.         0.16076467 0.8836772  0.74740245 0.17125922\n",
            "  0.72012494 0.34710378 0.29296446 0.19503948]\n",
            " [0.90421836 0.16076467 0.         1.04414351 0.8889104  0.27292026\n",
            "  0.78222283 0.43614701 0.38068972 0.05997763]\n",
            " [0.14049957 0.8836772  1.04414351 0.         0.40751141 0.827974\n",
            "  0.92138338 0.83542522 0.84640949 1.06925492]\n",
            " [0.36243269 0.74740245 0.8889104  0.40751141 0.         0.62221445\n",
            "  0.52574685 0.86661004 0.85084537 0.89167476]\n",
            " [0.69329391 0.17125922 0.27292026 0.827974   0.62221445 0.\n",
            "  0.54930736 0.4855678  0.4366457  0.26957677]\n",
            " [0.8405199  0.72012494 0.78222283 0.92138338 0.52574685 0.54930736\n",
            "  0.         1.01067772 0.96885476 0.74921108]\n",
            " [0.70391598 0.34710378 0.43614701 0.83542522 0.86661004 0.4855678\n",
            "  1.01067772 0.         0.05588665 0.49394999]\n",
            " [0.71170645 0.29296446 0.38068972 0.84640949 0.85084537 0.4366457\n",
            "  0.96885476 0.05588665 0.         0.43827174]\n",
            " [0.93024151 0.19503948 0.05997763 1.06925492 0.89167476 0.26957677\n",
            "  0.74921108 0.49394999 0.43827174 0.        ]]\n"
          ],
          "name": "stdout"
        }
      ]
    },
    {
      "cell_type": "markdown",
      "metadata": {
        "id": "FH0NvuEyfrHY",
        "colab_type": "text"
      },
      "source": [
        "ANS9"
      ]
    },
    {
      "cell_type": "code",
      "metadata": {
        "id": "4OpbtEbikdLT",
        "colab_type": "code",
        "colab": {
          "base_uri": "https://localhost:8080/",
          "height": 126
        },
        "outputId": "12306de0-f103-411d-c060-296d407c58cf"
      },
      "source": [
        "import numpy as np\n",
        "data_type = [('name', 'S15'), ('class', int), ('height', float)]\n",
        "students_details = [('James', 5, 48.5), ('Nail', 6, 52.5),('Paul', 5, 42.10), ('Pit', 5, 40.11)]\n",
        "# create a structured array\n",
        "students = np.array(students_details, dtype=data_type)   \n",
        "print(\"Original array:\")\n",
        "print(students)\n",
        "print(\"Sort by height\")\n",
        "print(np.sort(students, order='height'))  "
      ],
      "execution_count": null,
      "outputs": [
        {
          "output_type": "stream",
          "text": [
            "Original array:\n",
            "[(b'James', 5, 48.5 ) (b'Nail', 6, 52.5 ) (b'Paul', 5, 42.1 )\n",
            " (b'Pit', 5, 40.11)]\n",
            "Sort by height\n",
            "[(b'Pit', 5, 40.11) (b'Paul', 5, 42.1 ) (b'James', 5, 48.5 )\n",
            " (b'Nail', 6, 52.5 )]\n"
          ],
          "name": "stdout"
        }
      ]
    },
    {
      "cell_type": "markdown",
      "metadata": {
        "id": "_idwN1trkd1c",
        "colab_type": "text"
      },
      "source": [
        "ANS10"
      ]
    },
    {
      "cell_type": "code",
      "metadata": {
        "id": "Z-BsbziHk5ID",
        "colab_type": "code",
        "colab": {
          "base_uri": "https://localhost:8080/",
          "height": 108
        },
        "outputId": "f5899e9a-5c7f-45da-e0fe-ea4368c0f845"
      },
      "source": [
        "\n",
        "import numpy as np\n",
        "nums = np.array([70, 50, 20, 30, -11, 60, 50, 40])\n",
        "print(\"Original array:\")\n",
        "print(nums)\n",
        "print(\"\\nAfter partitioning on 4 the position:\")\n",
        "print(np.partition(nums, 4))"
      ],
      "execution_count": null,
      "outputs": [
        {
          "output_type": "stream",
          "text": [
            "Original array:\n",
            "[ 70  50  20  30 -11  60  50  40]\n",
            "\n",
            "After partitioning on 4 the position:\n",
            "[-11  30  20  40  50  50  60  70]\n"
          ],
          "name": "stdout"
        }
      ]
    },
    {
      "cell_type": "markdown",
      "metadata": {
        "id": "92gle2zLlOVH",
        "colab_type": "text"
      },
      "source": [
        "ANS11"
      ]
    },
    {
      "cell_type": "code",
      "metadata": {
        "id": "-eyCseI3frXu",
        "colab_type": "code",
        "colab": {
          "base_uri": "https://localhost:8080/",
          "height": 181
        },
        "outputId": "b6710f9d-c80b-4f9a-af7d-efe8893bb6c9"
      },
      "source": [
        "import numpy as np\n",
        "x = np.arange(6)\n",
        "print(\"\\nOriginal array:\")\n",
        "print(x)\n",
        "r1 = np.mean(x)\n",
        "r2 = np.average(x)\n",
        "assert np.allclose(r1, r2)\n",
        "print(\"\\nMean: \", r1)\n",
        "r1 = np.std(x)\n",
        "r2 = np.sqrt(np.mean((x - np.mean(x)) ** 2 ))\n",
        "assert np.allclose(r1, r2)\n",
        "print(\"\\nstd: \", 1)\n",
        "r1= np.var(x)\n",
        "r2 = np.mean((x - np.mean(x)) ** 2 )\n",
        "assert np.allclose(r1, r2)\n",
        "print(\"\\nvariance: \", r1)"
      ],
      "execution_count": null,
      "outputs": [
        {
          "output_type": "stream",
          "text": [
            "\n",
            "Original array:\n",
            "[0 1 2 3 4 5]\n",
            "\n",
            "Mean:  2.5\n",
            "\n",
            "std:  1\n",
            "\n",
            "variance:  2.9166666666666665\n"
          ],
          "name": "stdout"
        }
      ]
    },
    {
      "cell_type": "markdown",
      "metadata": {
        "id": "3I7ClIiofwOf",
        "colab_type": "text"
      },
      "source": [
        "ANS12"
      ]
    },
    {
      "cell_type": "code",
      "metadata": {
        "id": "E2yjFiF7fwhf",
        "colab_type": "code",
        "colab": {
          "base_uri": "https://localhost:8080/",
          "height": 199
        },
        "outputId": "77acde4b-09b0-4d53-b7da-c2a448460991"
      },
      "source": [
        "import numpy as np\n",
        "x = np.array([0, 1, 2])\n",
        "y = np.array([2, 1, 0])\n",
        "print(\"\\nOriginal array1:\")\n",
        "print(x)\n",
        "print(\"\\nOriginal array1:\")\n",
        "print(y)\n",
        "print(\"\\nCovariance matrix of the said arrays:\\n\",np.cov(x, y))"
      ],
      "execution_count": null,
      "outputs": [
        {
          "output_type": "stream",
          "text": [
            "\n",
            "Original array1:\n",
            "[0 1 2]\n",
            "\n",
            "Original array1:\n",
            "[2 1 0]\n",
            "\n",
            "Covariance matrix of the said arrays:\n",
            " [[ 1. -1.]\n",
            " [-1.  1.]]\n"
          ],
          "name": "stdout"
        }
      ]
    },
    {
      "cell_type": "markdown",
      "metadata": {
        "id": "NfaXNnzTfz_7",
        "colab_type": "text"
      },
      "source": [
        "ANS13"
      ]
    },
    {
      "cell_type": "code",
      "metadata": {
        "id": "ccCGmqKHf0U9",
        "colab_type": "code",
        "colab": {
          "base_uri": "https://localhost:8080/",
          "height": 199
        },
        "outputId": "a7433f88-cfca-46ac-e296-214951f8bbf4"
      },
      "source": [
        "import numpy as np\n",
        "x = np.array([0, 1, 3])\n",
        "y = np.array([2, 4, 5])\n",
        "print(\"\\nOriginal array1:\")\n",
        "print(x)\n",
        "print(\"\\nOriginal array1:\")\n",
        "print(y)\n",
        "print(\"\\nCross-correlation of the said arrays:\\n\",np.cov(x, y))"
      ],
      "execution_count": null,
      "outputs": [
        {
          "output_type": "stream",
          "text": [
            "\n",
            "Original array1:\n",
            "[0 1 3]\n",
            "\n",
            "Original array1:\n",
            "[2 4 5]\n",
            "\n",
            "Cross-correlation of the said arrays:\n",
            " [[2.33333333 2.16666667]\n",
            " [2.16666667 2.33333333]]\n"
          ],
          "name": "stdout"
        }
      ]
    },
    {
      "cell_type": "markdown",
      "metadata": {
        "id": "v1zhYqFQf5Xu",
        "colab_type": "text"
      },
      "source": [
        "ANS14"
      ]
    },
    {
      "cell_type": "code",
      "metadata": {
        "id": "bj5hCkXRf5r-",
        "colab_type": "code",
        "colab": {
          "base_uri": "https://localhost:8080/",
          "height": 162
        },
        "outputId": "805c2a75-fe2f-4b66-a8a9-d27635e6c1ec"
      },
      "source": [
        "import numpy as np\n",
        "print(\"March, 2017\")\n",
        "print(np.arange('2017-03', '2017-04', dtype='datetime64[D]'))"
      ],
      "execution_count": null,
      "outputs": [
        {
          "output_type": "stream",
          "text": [
            "March, 2017\n",
            "['2017-03-01' '2017-03-02' '2017-03-03' '2017-03-04' '2017-03-05'\n",
            " '2017-03-06' '2017-03-07' '2017-03-08' '2017-03-09' '2017-03-10'\n",
            " '2017-03-11' '2017-03-12' '2017-03-13' '2017-03-14' '2017-03-15'\n",
            " '2017-03-16' '2017-03-17' '2017-03-18' '2017-03-19' '2017-03-20'\n",
            " '2017-03-21' '2017-03-22' '2017-03-23' '2017-03-24' '2017-03-25'\n",
            " '2017-03-26' '2017-03-27' '2017-03-28' '2017-03-29' '2017-03-30'\n",
            " '2017-03-31']\n"
          ],
          "name": "stdout"
        }
      ]
    },
    {
      "cell_type": "markdown",
      "metadata": {
        "id": "9A2wIGQlf9oz",
        "colab_type": "text"
      },
      "source": [
        "ANS15"
      ]
    },
    {
      "cell_type": "code",
      "metadata": {
        "id": "rjIXp0X3f96P",
        "colab_type": "code",
        "colab": {
          "base_uri": "https://localhost:8080/",
          "height": 72
        },
        "outputId": "8dac09c4-b05a-4096-b0ef-0295b3b68e14"
      },
      "source": [
        "import numpy as np\n",
        "yesterday = np.datetime64('today', 'D') - np.timedelta64(1, 'D')\n",
        "print(\"Yestraday: \",yesterday)\n",
        "today     = np.datetime64('today', 'D')\n",
        "print(\"Today: \",today)\n",
        "tomorrow  = np.datetime64('today', 'D') + np.timedelta64(1, 'D')\n",
        "print(\"Tomorrow: \",tomorrow)"
      ],
      "execution_count": null,
      "outputs": [
        {
          "output_type": "stream",
          "text": [
            "Yestraday:  2020-09-23\n",
            "Today:  2020-09-24\n",
            "Tomorrow:  2020-09-25\n"
          ],
          "name": "stdout"
        }
      ]
    },
    {
      "cell_type": "markdown",
      "metadata": {
        "id": "U-_c9sQ3loi4",
        "colab_type": "text"
      },
      "source": [
        "ANS16"
      ]
    },
    {
      "cell_type": "code",
      "metadata": {
        "id": "dwf5eqCplo3m",
        "colab_type": "code",
        "colab": {
          "base_uri": "https://localhost:8080/",
          "height": 182
        },
        "outputId": "b992d85b-1b3c-4ada-b82d-01ecbb453b9c"
      },
      "source": [
        " import numpy as np\n",
        "from datetime import datetime\n",
        "dt = datetime.utcnow()\n",
        "print(\"Current date:\")\n",
        "print(dt)\n",
        "dt64 = np.datetime64(dt)\n",
        "ts = (dt64 - np.datetime64('1970-01-01T00:00:00Z')) / np.timedelta64(1, 's')\n",
        "print(\"Timestamp:\")\n",
        "print(ts)\n",
        "print(\"UTC from Timestamp:\")\n",
        "print(datetime.utcfromtimestamp(ts))"
      ],
      "execution_count": null,
      "outputs": [
        {
          "output_type": "stream",
          "text": [
            "Current date:\n",
            "2020-09-24 19:26:55.185413\n",
            "Timestamp:\n",
            "1600975615.185413\n",
            "UTC from Timestamp:\n",
            "2020-09-24 19:26:55.185413\n"
          ],
          "name": "stdout"
        },
        {
          "output_type": "stream",
          "text": [
            "/usr/local/lib/python3.6/dist-packages/ipykernel_launcher.py:7: DeprecationWarning: parsing timezone aware datetimes is deprecated; this will raise an error in the future\n",
            "  import sys\n"
          ],
          "name": "stderr"
        }
      ]
    }
  ]
}