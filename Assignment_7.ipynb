{
  "nbformat": 4,
  "nbformat_minor": 0,
  "metadata": {
    "colab": {
      "name": "Assignment 7.ipynb",
      "provenance": [],
      "authorship_tag": "ABX9TyNtkvKwudW+37Cek0MOzXVU",
      "include_colab_link": true
    },
    "kernelspec": {
      "name": "python3",
      "display_name": "Python 3"
    }
  },
  "cells": [
    {
      "cell_type": "markdown",
      "metadata": {
        "id": "view-in-github",
        "colab_type": "text"
      },
      "source": [
        "<a href=\"https://colab.research.google.com/github/171473/Advanced-Software-System-Lab/blob/master/Assignment_7.ipynb\" target=\"_parent\"><img src=\"https://colab.research.google.com/assets/colab-badge.svg\" alt=\"Open In Colab\"/></a>"
      ]
    },
    {
      "cell_type": "markdown",
      "metadata": {
        "id": "8XyfQapZukYJ"
      },
      "source": [
        "Ans1."
      ]
    },
    {
      "cell_type": "code",
      "metadata": {
        "id": "J-KovUhGufiH",
        "outputId": "d9b54b48-0a97-4845-9a5c-682eb8d2a880",
        "colab": {
          "base_uri": "https://localhost:8080/",
          "height": 136
        }
      },
      "source": [
        "def insertionSort(arr): \n",
        "\n",
        "    for i in range(1, len(arr)): \n",
        "  \n",
        "        key = arr[i] \n",
        "  \n",
        "     \n",
        "        j = i-1\n",
        "        while j >=0 and key < arr[j] : \n",
        "                arr[j+1] = arr[j] \n",
        "                j -= 1\n",
        "        arr[j+1] = key \n",
        "  \n",
        "  \n",
        "\n",
        "arr = [10, 12, 41, 6, 1 , 3] \n",
        "insertionSort(arr) \n",
        "print (\"Sorted array is:\") \n",
        "for i in range(len(arr)): \n",
        "    print (\"%d\" %arr[i]) "
      ],
      "execution_count": 1,
      "outputs": [
        {
          "output_type": "stream",
          "text": [
            "Sorted array is:\n",
            "1\n",
            "3\n",
            "6\n",
            "10\n",
            "12\n",
            "41\n"
          ],
          "name": "stdout"
        }
      ]
    },
    {
      "cell_type": "markdown",
      "metadata": {
        "id": "5Qofp49-vgMn"
      },
      "source": [
        "Ans2\n"
      ]
    },
    {
      "cell_type": "code",
      "metadata": {
        "id": "MY1VQPzwvhOl",
        "outputId": "15cebc9c-bdc1-43c3-8fc7-95235593fd25",
        "colab": {
          "base_uri": "https://localhost:8080/",
          "height": 119
        }
      },
      "source": [
        " \n",
        "import sys \n",
        "A = [23, 21, 1, 233, 25] \n",
        "  \n",
        "\n",
        "for i in range(len(A)): \n",
        "      \n",
        "  \n",
        "    min_idx = i \n",
        "    for j in range(i+1, len(A)): \n",
        "        if A[min_idx] > A[j]: \n",
        "            min_idx = j \n",
        "              \n",
        "    \n",
        "       \n",
        "    A[i], A[min_idx] = A[min_idx], A[i] \n",
        "  \n",
        "print (\"Sorted array\") \n",
        "for i in range(len(A)): \n",
        "    print(\"%d\" %A[i]), \n",
        "\n"
      ],
      "execution_count": 2,
      "outputs": [
        {
          "output_type": "stream",
          "text": [
            "Sorted array\n",
            "1\n",
            "21\n",
            "23\n",
            "25\n",
            "233\n"
          ],
          "name": "stdout"
        }
      ]
    },
    {
      "cell_type": "markdown",
      "metadata": {
        "id": "pnfQi6mrv_ZM"
      },
      "source": [
        "Ans3."
      ]
    },
    {
      "cell_type": "code",
      "metadata": {
        "id": "5KPekhWcwBO8",
        "outputId": "bbf03c6b-012d-4828-e402-cc5433ed981d",
        "colab": {
          "base_uri": "https://localhost:8080/",
          "height": 136
        }
      },
      "source": [
        "def partition(arr, low, high):\n",
        "    i = (low-1)\n",
        "    pivot = arr[high]    \n",
        " \n",
        "    for j in range(low, high):\n",
        " \n",
        "        \n",
        "        if arr[j] <= pivot:\n",
        " \n",
        "            i = i+1\n",
        "            arr[i], arr[j] = arr[j], arr[i]\n",
        " \n",
        "    arr[i+1], arr[high] = arr[high], arr[i+1]\n",
        "    return (i+1)\n",
        " \n",
        "\n",
        " \n",
        " \n",
        "def quickSort(arr, low, high):\n",
        "    if len(arr) == 1:\n",
        "        return arr\n",
        "    if low < high:\n",
        " \n",
        "       \n",
        "        pi = partition(arr, low, high)\n",
        " \n",
        "     \n",
        "        quickSort(arr, low, pi-1)\n",
        "        quickSort(arr, pi+1, high)\n",
        " \n",
        "\n",
        "arr = [5, 2, 4, 6, 1, 3]\n",
        "n = len(arr)\n",
        "quickSort(arr, 0, n-1)\n",
        "print(\"Sorted array is:\")\n",
        "for i in range(n):\n",
        "    print(\"%d\" % arr[i]),\n"
      ],
      "execution_count": 12,
      "outputs": [
        {
          "output_type": "stream",
          "text": [
            "Sorted array is:\n",
            "1\n",
            "2\n",
            "3\n",
            "4\n",
            "5\n",
            "6\n"
          ],
          "name": "stdout"
        }
      ]
    },
    {
      "cell_type": "markdown",
      "metadata": {
        "id": "y_W8Z7crxk9G"
      },
      "source": [
        "ANS4\n"
      ]
    },
    {
      "cell_type": "code",
      "metadata": {
        "id": "wFNpCc3Ixmh0",
        "outputId": "27a38db3-8efa-4c02-f7a1-f64610a98ba3",
        "colab": {
          "base_uri": "https://localhost:8080/",
          "height": 357
        }
      },
      "source": [
        "def merge(arr, l, m, r): \n",
        "    n1 = m - l + 1\n",
        "    n2 = r- m \n",
        "  \n",
        "  \n",
        "    L = [0] * (n1) \n",
        "    R = [0] * (n2) \n",
        "  \n",
        "    for i in range(0 , n1): \n",
        "        L[i] = arr[l + i] \n",
        "  \n",
        "    for j in range(0 , n2): \n",
        "        R[j] = arr[m + 1 + j] \n",
        "  \n",
        "    i = 0     \n",
        "    j = 0     \n",
        "    k = l    \n",
        "  \n",
        "    while i < n1 and j < n2 : \n",
        "        if L[i] <= R[j]: \n",
        "            arr[k] = L[i] \n",
        "            i += 1\n",
        "        else: \n",
        "            arr[k] = R[j] \n",
        "            j += 1\n",
        "        k += 1\n",
        "  \n",
        "\n",
        "    while i < n1: \n",
        "        arr[k] = L[i] \n",
        "        i += 1\n",
        "        k += 1\n",
        "  \n",
        "  \n",
        "    while j < n2: \n",
        "        arr[k] = R[j] \n",
        "        j += 1\n",
        "        k += 1\n",
        "\n",
        "def mergeSort(arr,l,r): \n",
        "    if l < r: \n",
        "  \n",
        "    \n",
        "        m = (l+(r-1))//2\n",
        "  \n",
        "        mergeSort(arr, l, m) \n",
        "        mergeSort(arr, m+1, r) \n",
        "        merge(arr, l, m, r) \n",
        "  \n",
        "  \n",
        "\n",
        "arr = [5, 2, 4, 7, 1, 3, 2, 6] \n",
        "n = len(arr) \n",
        "print (\"Given array is\") \n",
        "for i in range(n): \n",
        "    print (\"%d\" %arr[i]), \n",
        "  \n",
        "mergeSort(arr,0,n-1) \n",
        "print (\"\\n\\nSorted array is\") \n",
        "for i in range(n): \n",
        "    print (\"%d\" %arr[i]), \n"
      ],
      "execution_count": 13,
      "outputs": [
        {
          "output_type": "stream",
          "text": [
            "Given array is\n",
            "5\n",
            "2\n",
            "4\n",
            "7\n",
            "1\n",
            "3\n",
            "2\n",
            "6\n",
            "\n",
            "\n",
            "Sorted array is\n",
            "1\n",
            "2\n",
            "2\n",
            "3\n",
            "4\n",
            "5\n",
            "6\n",
            "7\n"
          ],
          "name": "stdout"
        }
      ]
    }
  ]
}